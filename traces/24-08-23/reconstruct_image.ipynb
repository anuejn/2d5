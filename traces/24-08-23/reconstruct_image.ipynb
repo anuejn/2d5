{
 "cells": [
  {
   "cell_type": "code",
   "execution_count": 1,
   "metadata": {},
   "outputs": [
    {
     "name": "stdout",
     "output_type": "stream",
     "text": [
      "Opening \"RigolDS1.bin\"\n"
     ]
    }
   ],
   "source": [
    "from wave import WaveParser\n",
    "import numpy as np\n",
    "import matplotlib.pyplot as plt\n",
    "\n",
    "parser = WaveParser({\"verbose\": False})\n",
    "parser.parse(\"RigolDS1.bin\")\n",
    "sample_period = parser.waveforms[0]['header'].x_increment\n",
    "frame_start, ap, an, clk = [wfm['data'] for wfm in parser.waveforms]\n",
    "analog = ap - an"
   ]
  },
  {
   "cell_type": "code",
   "execution_count": 2,
   "metadata": {},
   "outputs": [
    {
     "data": {
      "text/plain": [
       "2661"
      ]
     },
     "execution_count": 2,
     "metadata": {},
     "output_type": "execute_result"
    }
   ],
   "source": [
    "\n",
    "# find the lines by the absence of the clock\n",
    "clk_thresholded =  (clk > (3.3 / 2))\n",
    "last_high = 0\n",
    "seperators = []\n",
    "for i, sample in enumerate(clk_thresholded):\n",
    "    if sample:\n",
    "        run_length = i - last_high\n",
    "        if run_length > 50:\n",
    "            seperators.append((last_high + 1))\n",
    "        last_high = i\n",
    "\n",
    "len(seperators)"
   ]
  },
  {
   "cell_type": "code",
   "execution_count": 3,
   "metadata": {},
   "outputs": [],
   "source": [
    "\n",
    "# do some analysis of the lines\n",
    "lines = []\n",
    "for start, end in zip(seperators, seperators[1:]):\n",
    "    last = False\n",
    "    count = 0\n",
    "    start_of_current_clock = 0\n",
    "    line = []\n",
    "    for i, sample in enumerate(clk_thresholded[start:end]):\n",
    "        if not last and sample:  # rising edge\n",
    "            px_value = np.min(analog[start+start_of_current_clock:start+i])\n",
    "            line.append(px_value)\n",
    "            count += 1\n",
    "            start_of_current_clock = i\n",
    "        last = sample\n",
    "    lines.append(line)\n",
    "\n",
    "    if False:\n",
    "        x = np.arange((end - start) * sample_period, step=sample_period)\n",
    "        plt.scatter(x, (clk_thresholded[start:end] - 0.5) / 2)\n",
    "        plt.scatter(x, analog[start:end])\n",
    "        plt.show()\n"
   ]
  },
  {
   "cell_type": "code",
   "execution_count": 5,
   "metadata": {},
   "outputs": [
    {
     "name": "stdout",
     "output_type": "stream",
     "text": [
      "Using matplotlib backend: MacOSX\n"
     ]
    },
    {
     "ename": "",
     "evalue": "",
     "output_type": "error",
     "traceback": [
      "\u001b[1;31mThe Kernel crashed while executing code in the current cell or a previous cell. \n",
      "\u001b[1;31mPlease review the code in the cell(s) to identify a possible cause of the failure. \n",
      "\u001b[1;31mClick <a href='https://aka.ms/vscodeJupyterKernelCrash'>here</a> for more info. \n",
      "\u001b[1;31mView Jupyter <a href='command:jupyter.viewOutput'>log</a> for further details."
     ]
    }
   ],
   "source": [
    "%matplotlib\n",
    "max_length = max(len(line) for line in lines)\n",
    "for line in lines:\n",
    "    while len(line) < max_length:\n",
    "        line.append(0)\n",
    "image = np.array(lines)\n",
    "plt.imshow(image)\n",
    "plt.show()"
   ]
  },
  {
   "cell_type": "code",
   "execution_count": null,
   "metadata": {},
   "outputs": [],
   "source": []
  },
  {
   "cell_type": "code",
   "execution_count": null,
   "metadata": {},
   "outputs": [],
   "source": []
  }
 ],
 "metadata": {
  "kernelspec": {
   "display_name": "Python 3",
   "language": "python",
   "name": "python3"
  },
  "language_info": {
   "codemirror_mode": {
    "name": "ipython",
    "version": 3
   },
   "file_extension": ".py",
   "mimetype": "text/x-python",
   "name": "python",
   "nbconvert_exporter": "python",
   "pygments_lexer": "ipython3",
   "version": "3.10.9"
  }
 },
 "nbformat": 4,
 "nbformat_minor": 2
}
